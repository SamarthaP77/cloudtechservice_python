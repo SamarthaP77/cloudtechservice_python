{
 "cells": [
  {
   "cell_type": "code",
   "execution_count": 2,
   "id": "9b500fd9",
   "metadata": {},
   "outputs": [
    {
     "name": "stdout",
     "output_type": "stream",
     "text": [
      "Samartha\n"
     ]
    }
   ],
   "source": [
    "print(\"Samartha\")\n"
   ]
  },
  {
   "cell_type": "code",
   "execution_count": 2,
   "id": "611d0f1f",
   "metadata": {},
   "outputs": [
    {
     "name": "stdout",
     "output_type": "stream",
     "text": [
      "[4 2 8 8 9]\n"
     ]
    }
   ],
   "source": [
    "import numpy as np\n",
    "arr1 = np.array([4,2,8,8,9])\n",
    "print(arr1)\n"
   ]
  },
  {
   "cell_type": "code",
   "execution_count": 3,
   "id": "179b3eaf",
   "metadata": {},
   "outputs": [
    {
     "name": "stdout",
     "output_type": "stream",
     "text": [
      "[[1 2 3]\n",
      " [4 5 6]]\n"
     ]
    }
   ],
   "source": [
    "arr2 = np.array([[1,2,3],[4,5,6]])\n",
    "print(arr2)"
   ]
  },
  {
   "cell_type": "code",
   "execution_count": 4,
   "id": "6809a659",
   "metadata": {},
   "outputs": [
    {
     "name": "stdout",
     "output_type": "stream",
     "text": [
      "[[[1 2 3]\n",
      "  [4 5 6]]\n",
      "\n",
      " [[1 2 3]\n",
      "  [4 5 6]]]\n"
     ]
    }
   ],
   "source": [
    "#Creating a 3-D Array using 2-D values\\\n",
    "arr3 = np.array([[[1,2,3],[4,5,6]],[[1,2,3],[4,5,6]]])\n",
    "print(arr3)"
   ]
  },
  {
   "cell_type": "code",
   "execution_count": 5,
   "id": "80665a95",
   "metadata": {},
   "outputs": [
    {
     "name": "stdout",
     "output_type": "stream",
     "text": [
      "No. of dimensions : 2\n"
     ]
    }
   ],
   "source": [
    "#Printing array dimensions \n",
    "print(\"No. of dimensions :\",arr2.ndim)"
   ]
  },
  {
   "cell_type": "code",
   "execution_count": 7,
   "id": "57165902",
   "metadata": {},
   "outputs": [
    {
     "name": "stdout",
     "output_type": "stream",
     "text": [
      "Shape of array : (2, 3)\n"
     ]
    }
   ],
   "source": [
    "#Printing array shape\n",
    "print(\"Shape of array :\",arr2.shape)\n"
   ]
  },
  {
   "cell_type": "code",
   "execution_count": 8,
   "id": "92db03df",
   "metadata": {},
   "outputs": [
    {
     "name": "stdout",
     "output_type": "stream",
     "text": [
      "Size of array : 6\n"
     ]
    }
   ],
   "source": [
    "print(\"Size of array :\",arr2.size)"
   ]
  },
  {
   "cell_type": "code",
   "execution_count": 5,
   "id": "5e615021",
   "metadata": {},
   "outputs": [
    {
     "name": "stdout",
     "output_type": "stream",
     "text": [
      "Array created using passed list is:\n",
      " [[1. 2. 3.]\n",
      " [4. 5. 6.]]\n"
     ]
    }
   ],
   "source": [
    "#Creating an array from list with float type\n",
    "import numpy as np\n",
    "b = np.array([[1,2,3],[4,5,6]], dtype = 'float')\n",
    "print(\"Array created using passed list is:\\n\", b)"
   ]
  },
  {
   "cell_type": "code",
   "execution_count": 6,
   "id": "492f9e03",
   "metadata": {},
   "outputs": [
    {
     "name": "stdout",
     "output_type": "stream",
     "text": [
      "Array created from tuple is:\n",
      " [1 2 3 4]\n"
     ]
    }
   ],
   "source": [
    "#Creating an array from tuple\n",
    "a = np.array((1,2,3,4))\n",
    "print(\"Array created from tuple is:\\n\",a)"
   ]
  },
  {
   "cell_type": "code",
   "execution_count": 7,
   "id": "767ba3cc",
   "metadata": {},
   "outputs": [
    {
     "name": "stdout",
     "output_type": "stream",
     "text": [
      "[[0. 0. 0. 0.]\n",
      " [0. 0. 0. 0.]\n",
      " [0. 0. 0. 0.]]\n"
     ]
    }
   ],
   "source": [
    "#Creating a 3*4 array with all zeros\n",
    "c = np.zeros((3,4))\n",
    "print(c)"
   ]
  },
  {
   "cell_type": "code",
   "execution_count": 11,
   "id": "33115148",
   "metadata": {},
   "outputs": [
    {
     "name": "stdout",
     "output_type": "stream",
     "text": [
      "Array complex type is:\n",
      " [[4.+0.j 4.+0.j]\n",
      " [4.+0.j 4.+0.j]]\n"
     ]
    }
   ],
   "source": [
    "t = np.full((2,2), 4, dtype = 'complex')\n",
    "print(\"Array complex type is:\\n\",t)"
   ]
  },
  {
   "cell_type": "code",
   "execution_count": 12,
   "id": "81026b7a",
   "metadata": {},
   "outputs": [
    {
     "name": "stdout",
     "output_type": "stream",
     "text": [
      "Array with random values is:\n",
      " [[0.47711212 0.97451981 0.20127889 0.88439741]\n",
      " [0.98701716 0.03498091 0.17522247 0.23582361]\n",
      " [0.65489801 0.15160765 0.31907197 0.18340112]\n",
      " [0.16473516 0.40249569 0.84681322 0.07287633]]\n"
     ]
    }
   ],
   "source": [
    "#Creating an array with random values \n",
    "a = np.random.random((4,4))\n",
    "print(\"Array with random values is:\\n\",a)"
   ]
  },
  {
   "cell_type": "code",
   "execution_count": 14,
   "id": "4bdd3f8e",
   "metadata": {},
   "outputs": [
    {
     "name": "stdout",
     "output_type": "stream",
     "text": [
      "[ 0  5 10 15 20 25]\n"
     ]
    }
   ],
   "source": [
    "#Create a sequence of integers from 0 to 30 with steps of 5\n",
    "b = np.arange(0,30,5)\n",
    "print(b)\n"
   ]
  },
  {
   "cell_type": "code",
   "execution_count": 17,
   "id": "677adc6e",
   "metadata": {},
   "outputs": [
    {
     "name": "stdout",
     "output_type": "stream",
     "text": [
      "[0.  0.4 0.8 1.2 1.6 2.  2.4 2.8 3.2 3.6 4. ]\n"
     ]
    }
   ],
   "source": [
    "#Create a sequnce of 11 values in range from 0 to 5\n",
    "b= np.linspace(0,4,11)\n",
    "print(b)"
   ]
  },
  {
   "cell_type": "code",
   "execution_count": 27,
   "id": "f4de647f",
   "metadata": {},
   "outputs": [
    {
     "name": "stdout",
     "output_type": "stream",
     "text": [
      "[[1 2 3 5]\n",
      " [4 5 6 8]\n",
      " [1 2 3 4]]\n",
      "[[[1 2 3]\n",
      "  [5 4 5]]\n",
      "\n",
      " [[6 8 1]\n",
      "  [2 3 4]]]\n"
     ]
    }
   ],
   "source": [
    "#Reshaping a 3*4array into a 2,2,33 array\n",
    "a = np.array([[1,2,3,5],\n",
    "            [4,5,6,8],[1,2,3,4]])\n",
    "\n",
    "b = a.reshape(2,2,3)\n",
    "print(a)\n",
    "print(b)"
   ]
  },
  {
   "cell_type": "code",
   "execution_count": 31,
   "id": "96c5d19c",
   "metadata": {},
   "outputs": [
    {
     "name": "stdout",
     "output_type": "stream",
     "text": [
      "[1 2 3 4 5 6 7 8 9]\n",
      "1\n",
      "2\n"
     ]
    }
   ],
   "source": [
    "#Flatten array \n",
    "u = np.array([[1,2,3],[4,5,6],[7,8,9]])\n",
    "b = u.flatten()\n",
    "print(b)\n",
    "print(b.ndim)\n",
    "print(u.ndim)"
   ]
  },
  {
   "cell_type": "code",
   "execution_count": 35,
   "id": "fec7ee80",
   "metadata": {},
   "outputs": [
    {
     "name": "stdout",
     "output_type": "stream",
     "text": [
      "[[0.78477268 0.1079287  0.77383308]\n",
      " [0.29179039 0.06116899 0.30102028]]\n",
      "[0.28866408 0.85927881 0.39782708 0.27554162 0.73207851]\n"
     ]
    }
   ],
   "source": [
    "#Create an array of given shape and populate it with random samples and all the values are between [0,1]\n",
    "a = np.random.rand(2,3)\n",
    "print(a)\n",
    "b = np.random.rand(5)\n",
    "print(b)"
   ]
  },
  {
   "cell_type": "code",
   "execution_count": 36,
   "id": "d5b7757a",
   "metadata": {},
   "outputs": [
    {
     "name": "stdout",
     "output_type": "stream",
     "text": [
      "[3 2 3 3 2]\n"
     ]
    }
   ],
   "source": [
    "#Generating 5 random integers between 2 and 4\n",
    "a = np.random.randint(2,4,5)\n",
    "print(a)"
   ]
  },
  {
   "cell_type": "code",
   "execution_count": 41,
   "id": "39d6c432",
   "metadata": {},
   "outputs": [
    {
     "name": "stdout",
     "output_type": "stream",
     "text": [
      "[[ 0  1  2  3]\n",
      " [ 4  5  6  7]\n",
      " [ 8  9 10 11]]\n"
     ]
    }
   ],
   "source": [
    "#np.maatrix-Returns a matrix from an array like object\n",
    "a = np.matrix(np.arange(12).reshape((3,4)))\n",
    "print(a)"
   ]
  },
  {
   "cell_type": "code",
   "execution_count": 6,
   "id": "3cf0cdb0",
   "metadata": {},
   "outputs": [
    {
     "name": "stdout",
     "output_type": "stream",
     "text": [
      "[[1 2]\n",
      " [4 5]]\n",
      "[[3 4]\n",
      " [6 7]]\n",
      "Array sum is:\n",
      " [[ 4  6]\n",
      " [10 12]]\n"
     ]
    }
   ],
   "source": [
    "#Python programs to demonanstrate binary operators in numpy\n",
    "#Addition of arrays \n",
    "import numpy as np\n",
    "a = np.array([[1,2,]\n",
    "              ,[4,5,]])\n",
    "b = np.array([[3,4,],\n",
    "              [6,7,]])\n",
    "print(a)\n",
    "print(b)\n",
    "print(\"Array sum is:\\n\",a+b)\n"
   ]
  },
  {
   "cell_type": "code",
   "execution_count": 7,
   "id": "3c95e44d",
   "metadata": {},
   "outputs": [
    {
     "name": "stdout",
     "output_type": "stream",
     "text": [
      "Multiplication of array is:\n",
      " [[ 1  4]\n",
      " [ 9 16]]\n"
     ]
    }
   ],
   "source": [
    "#Multiplication of arrays\n",
    "c = np.array([[1,2],[3,4]])\n",
    "b = np.array([[1,2],[3,4]])\n",
    "print(\"Multiplication of array is:\\n\",c*b)"
   ]
  },
  {
   "cell_type": "code",
   "execution_count": 8,
   "id": "c3f77b63",
   "metadata": {},
   "outputs": [
    {
     "name": "stdout",
     "output_type": "stream",
     "text": [
      "Matrix multiplication is: [[ 7 10]\n",
      " [15 22]]\n"
     ]
    }
   ],
   "source": [
    "#Multiplicatiojn of matrices\n",
    "c = np.array([[1,2],[3,4]])\n",
    "b = np.array([[1,2],[3,4]])\n",
    "print(\"Matrix multiplication is:\",c.dot(b))"
   ]
  },
  {
   "cell_type": "code",
   "execution_count": null,
   "id": "fa9f81f0",
   "metadata": {},
   "outputs": [],
   "source": []
  }
 ],
 "metadata": {
  "kernelspec": {
   "display_name": "Python 3 (ipykernel)",
   "language": "python",
   "name": "python3"
  },
  "language_info": {
   "codemirror_mode": {
    "name": "ipython",
    "version": 3
   },
   "file_extension": ".py",
   "mimetype": "text/x-python",
   "name": "python",
   "nbconvert_exporter": "python",
   "pygments_lexer": "ipython3",
   "version": "3.9.13"
  },
  "vscode": {
   "interpreter": {
    "hash": "aee8b7b246df8f9039afb4144a1f6fd8d2ca17a180786b69acc140d282b71a49"
   }
  }
 },
 "nbformat": 4,
 "nbformat_minor": 5
}
