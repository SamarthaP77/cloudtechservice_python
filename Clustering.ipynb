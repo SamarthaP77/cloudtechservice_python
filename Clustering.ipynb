{
 "cells": [
  {
   "cell_type": "code",
   "execution_count": 7,
   "id": "5d356f23",
   "metadata": {},
   "outputs": [],
   "source": [
    "import numpy as np\n",
    "import matplotlib.pyplot as plt\n",
    "from sklearn.cluster import KMeans"
   ]
  },
  {
   "cell_type": "code",
   "execution_count": 8,
   "id": "75caf648",
   "metadata": {},
   "outputs": [],
   "source": [
    "X = -2 * np.random.rand(100,2)\n",
    "X1 = 1 + 2* np.random.rand(50,2)\n"
   ]
  },
  {
   "cell_type": "code",
   "execution_count": 9,
   "id": "f3e14a30",
   "metadata": {},
   "outputs": [
    {
     "data": {
      "text/plain": [
       "array([[-0.95224802, -0.60184305],\n",
       "       [-0.74367388, -1.7225883 ],\n",
       "       [-0.43698458, -1.66016222],\n",
       "       [-1.90511342, -1.78412456],\n",
       "       [-1.87466313, -1.5773633 ],\n",
       "       [-0.86324672, -0.62289106],\n",
       "       [-1.71349952, -0.97980977],\n",
       "       [-0.48285667, -1.85544915],\n",
       "       [-0.18457051, -0.14282563],\n",
       "       [-1.6332359 , -1.26080729],\n",
       "       [-0.96085246, -0.28960019],\n",
       "       [-1.82413827, -0.22105632],\n",
       "       [-0.67818812, -0.59297103],\n",
       "       [-0.45634613, -0.83963545],\n",
       "       [-0.18780644, -0.43228841],\n",
       "       [-0.87436016, -1.38314463],\n",
       "       [-1.59974093, -0.25909314],\n",
       "       [-0.08463061, -0.80696293],\n",
       "       [-1.2017965 , -0.11828162],\n",
       "       [-1.10857188, -1.57439111],\n",
       "       [-1.36812098, -0.6560935 ],\n",
       "       [-0.92907228, -0.8392361 ],\n",
       "       [-1.36598544, -0.78485199],\n",
       "       [-0.84310943, -1.03858836],\n",
       "       [-0.54889635, -1.45724895],\n",
       "       [-1.89440754, -0.44761999],\n",
       "       [-0.07894418, -1.77255018],\n",
       "       [-1.14689833, -1.12461869],\n",
       "       [-0.57823627, -0.6949229 ],\n",
       "       [-0.84380744, -1.68875829],\n",
       "       [-0.28336774, -0.75126093],\n",
       "       [-0.50044517, -0.96644086],\n",
       "       [-1.09044637, -0.54380711],\n",
       "       [-1.94221417, -1.93929026],\n",
       "       [-1.53453305, -0.17809345],\n",
       "       [-1.518348  , -1.59646822],\n",
       "       [-1.97098173, -1.46451622],\n",
       "       [-0.76070077, -0.59665924],\n",
       "       [-0.09730852, -0.54553103],\n",
       "       [-1.59857732, -0.75496155],\n",
       "       [-1.87491668, -0.37455511],\n",
       "       [-1.23669331, -1.44521587],\n",
       "       [-1.92052132, -0.03090973],\n",
       "       [-1.61591206, -1.13169554],\n",
       "       [-0.17542865, -0.10273757],\n",
       "       [-1.78037561, -0.23828332],\n",
       "       [-1.07781376, -0.8450532 ],\n",
       "       [-0.78069981, -1.85348356],\n",
       "       [-1.11133936, -0.57482002],\n",
       "       [-0.03176172, -1.65539468],\n",
       "       [-0.64780013, -0.81858797],\n",
       "       [-0.87991564, -0.31180173],\n",
       "       [-0.90436983, -1.42019167],\n",
       "       [-1.82501275, -0.52940813],\n",
       "       [-0.13069891, -0.35036307],\n",
       "       [-0.68635026, -0.45853466],\n",
       "       [-0.53617813, -1.42555109],\n",
       "       [-1.33050379, -0.87500142],\n",
       "       [-0.91148575, -0.59379676],\n",
       "       [-0.90166617, -1.97805827],\n",
       "       [-1.12995672, -1.49460416],\n",
       "       [-1.12018127, -1.84644321],\n",
       "       [-0.59207687, -1.02246897],\n",
       "       [-1.0528744 , -1.83555851],\n",
       "       [-0.19678832, -0.14272738],\n",
       "       [-1.78590855, -0.63589585],\n",
       "       [-1.49772982, -1.81257907],\n",
       "       [-1.51577293, -1.07591697],\n",
       "       [-1.72311766, -1.26010283],\n",
       "       [-0.18371141, -1.60246597],\n",
       "       [-1.79477426, -1.80106227],\n",
       "       [-1.80035017, -0.75280661],\n",
       "       [-1.9839914 , -0.51038227],\n",
       "       [-0.37367975, -1.25126574],\n",
       "       [-1.18710432, -0.79133453],\n",
       "       [-0.63209072, -0.02355853],\n",
       "       [-1.21762897, -1.34691357],\n",
       "       [-1.71716767, -1.83939213],\n",
       "       [-1.04634508, -0.5647759 ],\n",
       "       [-1.65649815, -0.70836747],\n",
       "       [-0.42479883, -1.02039562],\n",
       "       [-0.82684985, -0.26033919],\n",
       "       [-0.81038701, -0.95147979],\n",
       "       [-0.53587563, -0.20257121],\n",
       "       [-1.53367053, -0.85607918],\n",
       "       [-0.21192211, -0.53920074],\n",
       "       [-1.64992059, -0.14362646],\n",
       "       [-1.08536805, -1.57140525],\n",
       "       [-0.90635596, -0.63082974],\n",
       "       [-1.88445847, -0.04575077],\n",
       "       [-1.5664505 , -0.10985563],\n",
       "       [-1.6736157 , -0.29227416],\n",
       "       [-1.02089444, -1.87180939],\n",
       "       [-1.0568753 , -0.77429499],\n",
       "       [-0.53555327, -0.03441846],\n",
       "       [-1.38454094, -1.25466208],\n",
       "       [-0.77005135, -0.55855073],\n",
       "       [-1.98614093, -1.78956224],\n",
       "       [-1.04200135, -1.35136196],\n",
       "       [-1.40516268, -0.83666299]])"
      ]
     },
     "execution_count": 9,
     "metadata": {},
     "output_type": "execute_result"
    }
   ],
   "source": [
    "X\n"
   ]
  },
  {
   "cell_type": "code",
   "execution_count": 35,
   "id": "f367a1c5",
   "metadata": {},
   "outputs": [
    {
     "data": {
      "text/plain": [
       "array([[2.68398622, 2.73281367],\n",
       "       [1.90902407, 1.63390467],\n",
       "       [1.35309386, 2.33912752],\n",
       "       [2.51044306, 2.32765654],\n",
       "       [1.99095883, 1.14208548],\n",
       "       [1.95265129, 1.0608616 ],\n",
       "       [2.00408917, 1.39985186],\n",
       "       [2.02920582, 2.62764339],\n",
       "       [2.22580557, 1.80229056],\n",
       "       [1.76874979, 1.78815154],\n",
       "       [2.63014038, 2.10593152],\n",
       "       [1.80438495, 1.67949507],\n",
       "       [2.03985789, 1.88105191],\n",
       "       [2.41070657, 2.26538832],\n",
       "       [1.44003251, 2.91327031],\n",
       "       [1.31556474, 1.26955798],\n",
       "       [2.3557535 , 2.00138126],\n",
       "       [1.8438844 , 2.71582174],\n",
       "       [2.55675163, 1.17179819],\n",
       "       [1.61995524, 1.75772544],\n",
       "       [2.41686616, 1.26583755],\n",
       "       [2.35561907, 2.70967285],\n",
       "       [2.15298182, 1.15419321],\n",
       "       [1.44024506, 2.39120296],\n",
       "       [2.22241932, 2.30771474],\n",
       "       [1.36176446, 1.18072289],\n",
       "       [1.39710347, 2.07872581],\n",
       "       [2.4114843 , 2.57175084],\n",
       "       [1.35070261, 2.90787237],\n",
       "       [2.43325447, 2.06150082],\n",
       "       [2.72436498, 1.22257036],\n",
       "       [2.58116688, 2.55254291],\n",
       "       [1.24903714, 2.02522521],\n",
       "       [1.26516935, 2.04662921],\n",
       "       [1.965178  , 2.14369589],\n",
       "       [1.549031  , 1.54101309],\n",
       "       [2.9915634 , 2.81260134],\n",
       "       [1.50047628, 1.8524463 ],\n",
       "       [2.16744776, 1.57557782],\n",
       "       [1.07653481, 1.35837588],\n",
       "       [2.57326334, 2.03126683],\n",
       "       [2.60636589, 1.78229809],\n",
       "       [1.8684647 , 1.50081149],\n",
       "       [2.2088155 , 2.57211404],\n",
       "       [2.76321344, 1.03996931],\n",
       "       [1.68373875, 1.79501852],\n",
       "       [1.94343953, 1.07055938],\n",
       "       [2.43313297, 1.48571901],\n",
       "       [2.72104027, 1.6467681 ],\n",
       "       [1.25481781, 1.82761753]])"
      ]
     },
     "execution_count": 35,
     "metadata": {},
     "output_type": "execute_result"
    }
   ],
   "source": [
    "X[50:100,:] \n"
   ]
  },
  {
   "cell_type": "code",
   "execution_count": 14,
   "id": "60d4200d",
   "metadata": {},
   "outputs": [
    {
     "data": {
      "text/plain": [
       "100"
      ]
     },
     "execution_count": 14,
     "metadata": {},
     "output_type": "execute_result"
    }
   ],
   "source": [
    "X[50:100,:] = X1\n",
    "len(X)"
   ]
  },
  {
   "cell_type": "code",
   "execution_count": 16,
   "id": "bd21d59a",
   "metadata": {},
   "outputs": [
    {
     "data": {
      "image/png": "[encoded data removed]",
      "text/plain": [
       "<Figure size 640x480 with 1 Axes>"
      ]
     },
     "metadata": {},
     "output_type": "display_data"
    }
   ],
   "source": [
    "X[50:100,:] = X1\n",
    "plt.scatter(X[ : ,0], X[ :, 1], c = 'b')\n",
    "plt.show()            \n",
    "           \n",
    "            "
   ]
  },
  {
   "cell_type": "code",
   "execution_count": 19,
   "id": "de03dc56",
   "metadata": {},
   "outputs": [
    {
     "data": {
      "text/plain": [
       "KMeans(n_clusters=2)"
      ]
     },
     "execution_count": 19,
     "metadata": {},
     "output_type": "execute_result"
    }
   ],
   "source": [
    "from sklearn.cluster import KMeans\n",
    "Kmean1 = KMeans(n_clusters=2)\n",
    "Kmean1.fit(X)"
   ]
  },
  {
   "cell_type": "code",
   "execution_count": 30,
   "id": "36e38692",
   "metadata": {},
   "outputs": [
    {
     "data": {
      "text/plain": [
       "array([[ 2.02227484,  1.90255646],\n",
       "       [-1.04532774, -0.93637911]])"
      ]
     },
     "execution_count": 30,
     "metadata": {},
     "output_type": "execute_result"
    }
   ],
   "source": [
    "Kmean1.cluster_centers_"
   ]
  },
  {
   "cell_type": "code",
   "execution_count": 32,
   "id": "77d2b160",
   "metadata": {},
   "outputs": [
    {
     "data": {
      "text/plain": [
       "array([[-0.95224802, -0.60184305],\n",
       "       [-0.74367388, -1.7225883 ],\n",
       "       [-0.43698458, -1.66016222],\n",
       "       [-1.90511342, -1.78412456],\n",
       "       [-1.87466313, -1.5773633 ],\n",
       "       [-0.86324672, -0.62289106],\n",
       "       [-1.71349952, -0.97980977],\n",
       "       [-0.48285667, -1.85544915],\n",
       "       [-0.18457051, -0.14282563],\n",
       "       [-1.6332359 , -1.26080729],\n",
       "       [-0.96085246, -0.28960019],\n",
       "       [-1.82413827, -0.22105632],\n",
       "       [-0.67818812, -0.59297103],\n",
       "       [-0.45634613, -0.83963545],\n",
       "       [-0.18780644, -0.43228841],\n",
       "       [-0.87436016, -1.38314463],\n",
       "       [-1.59974093, -0.25909314],\n",
       "       [-0.08463061, -0.80696293],\n",
       "       [-1.2017965 , -0.11828162],\n",
       "       [-1.10857188, -1.57439111],\n",
       "       [-1.36812098, -0.6560935 ],\n",
       "       [-0.92907228, -0.8392361 ],\n",
       "       [-1.36598544, -0.78485199],\n",
       "       [-0.84310943, -1.03858836],\n",
       "       [-0.54889635, -1.45724895],\n",
       "       [-1.89440754, -0.44761999],\n",
       "       [-0.07894418, -1.77255018],\n",
       "       [-1.14689833, -1.12461869],\n",
       "       [-0.57823627, -0.6949229 ],\n",
       "       [-0.84380744, -1.68875829],\n",
       "       [-0.28336774, -0.75126093],\n",
       "       [-0.50044517, -0.96644086],\n",
       "       [-1.09044637, -0.54380711],\n",
       "       [-1.94221417, -1.93929026],\n",
       "       [-1.53453305, -0.17809345],\n",
       "       [-1.518348  , -1.59646822],\n",
       "       [-1.97098173, -1.46451622],\n",
       "       [-0.76070077, -0.59665924],\n",
       "       [-0.09730852, -0.54553103],\n",
       "       [-1.59857732, -0.75496155],\n",
       "       [-1.87491668, -0.37455511],\n",
       "       [-1.23669331, -1.44521587],\n",
       "       [-1.92052132, -0.03090973],\n",
       "       [-1.61591206, -1.13169554],\n",
       "       [-0.17542865, -0.10273757],\n",
       "       [-1.78037561, -0.23828332],\n",
       "       [-1.07781376, -0.8450532 ],\n",
       "       [-0.78069981, -1.85348356],\n",
       "       [-1.11133936, -0.57482002],\n",
       "       [-0.03176172, -1.65539468],\n",
       "       [ 2.68398622,  2.73281367],\n",
       "       [ 1.90902407,  1.63390467],\n",
       "       [ 1.35309386,  2.33912752],\n",
       "       [ 2.51044306,  2.32765654],\n",
       "       [ 1.99095883,  1.14208548],\n",
       "       [ 1.95265129,  1.0608616 ],\n",
       "       [ 2.00408917,  1.39985186],\n",
       "       [ 2.02920582,  2.62764339],\n",
       "       [ 2.22580557,  1.80229056],\n",
       "       [ 1.76874979,  1.78815154],\n",
       "       [ 2.63014038,  2.10593152],\n",
       "       [ 1.80438495,  1.67949507],\n",
       "       [ 2.03985789,  1.88105191],\n",
       "       [ 2.41070657,  2.26538832],\n",
       "       [ 1.44003251,  2.91327031],\n",
       "       [ 1.31556474,  1.26955798],\n",
       "       [ 2.3557535 ,  2.00138126],\n",
       "       [ 1.8438844 ,  2.71582174],\n",
       "       [ 2.55675163,  1.17179819],\n",
       "       [ 1.61995524,  1.75772544],\n",
       "       [ 2.41686616,  1.26583755],\n",
       "       [ 2.35561907,  2.70967285],\n",
       "       [ 2.15298182,  1.15419321],\n",
       "       [ 1.44024506,  2.39120296],\n",
       "       [ 2.22241932,  2.30771474],\n",
       "       [ 1.36176446,  1.18072289],\n",
       "       [ 1.39710347,  2.07872581],\n",
       "       [ 2.4114843 ,  2.57175084],\n",
       "       [ 1.35070261,  2.90787237],\n",
       "       [ 2.43325447,  2.06150082],\n",
       "       [ 2.72436498,  1.22257036],\n",
       "       [ 2.58116688,  2.55254291],\n",
       "       [ 1.24903714,  2.02522521],\n",
       "       [ 1.26516935,  2.04662921],\n",
       "       [ 1.965178  ,  2.14369589],\n",
       "       [ 1.549031  ,  1.54101309],\n",
       "       [ 2.9915634 ,  2.81260134],\n",
       "       [ 1.50047628,  1.8524463 ],\n",
       "       [ 2.16744776,  1.57557782],\n",
       "       [ 1.07653481,  1.35837588],\n",
       "       [ 2.57326334,  2.03126683],\n",
       "       [ 2.60636589,  1.78229809],\n",
       "       [ 1.8684647 ,  1.50081149],\n",
       "       [ 2.2088155 ,  2.57211404],\n",
       "       [ 2.76321344,  1.03996931],\n",
       "       [ 1.68373875,  1.79501852],\n",
       "       [ 1.94343953,  1.07055938],\n",
       "       [ 2.43313297,  1.48571901],\n",
       "       [ 2.72104027,  1.6467681 ],\n",
       "       [ 1.25481781,  1.82761753]])"
      ]
     },
     "execution_count": 32,
     "metadata": {},
     "output_type": "execute_result"
    }
   ],
   "source": [
    "X\n"
   ]
  },
  {
   "cell_type": "code",
   "execution_count": 36,
   "id": "2750f1ff",
   "metadata": {},
   "outputs": [
    {
     "ename": "SyntaxError",
     "evalue": "cannot assign to function call (3627146296.py, line 2)",
     "output_type": "error",
     "traceback": [
      "\u001b[0;36m  File \u001b[0;32m\"/var/folders/ky/05qc6srx0lg695c0z6397x3m0000gn/T/ipykernel_23577/3627146296.py\"\u001b[0;36m, line \u001b[0;32m2\u001b[0m\n\u001b[0;31m    plt.scatter(X[ : , 0 ]), X[ : , 1], c='b')\u001b[0m\n\u001b[0m    ^\u001b[0m\n\u001b[0;31mSyntaxError\u001b[0m\u001b[0;31m:\u001b[0m cannot assign to function call\n"
     ]
    }
   ],
   "source": [
    "import matplotlib.pyplot as plt\n",
    "plt.scatter(X[ : , 0 ]), X[ : , 1], c='b')\n",
    "plt.scatter(2.02227484,  1.90255646, s=200, c='g', marker='s')\n",
    "plt.scatter(-1.04532774, -0.93637911, s=200, c='r', marker='s')\n",
    "plt.show()"
   ]
  },
  {
   "cell_type": "code",
   "execution_count": 23,
   "id": "d752e5d0",
   "metadata": {},
   "outputs": [
    {
     "data": {
      "text/plain": [
       "array([1, 1, 1, 1, 1, 1, 1, 1, 1, 1, 1, 1, 1, 1, 1, 1, 1, 1, 1, 1, 1, 1,\n",
       "       1, 1, 1, 1, 1, 1, 1, 1, 1, 1, 1, 1, 1, 1, 1, 1, 1, 1, 1, 1, 1, 1,\n",
       "       1, 1, 1, 1, 1, 1, 0, 0, 0, 0, 0, 0, 0, 0, 0, 0, 0, 0, 0, 0, 0, 0,\n",
       "       0, 0, 0, 0, 0, 0, 0, 0, 0, 0, 0, 0, 0, 0, 0, 0, 0, 0, 0, 0, 0, 0,\n",
       "       0, 0, 0, 0, 0, 0, 0, 0, 0, 0, 0, 0], dtype=int32)"
      ]
     },
     "execution_count": 23,
     "metadata": {},
     "output_type": "execute_result"
    }
   ],
   "source": [
    "Kmean1.labels_"
   ]
  },
  {
   "cell_type": "code",
   "execution_count": null,
   "id": "51bf57a9",
   "metadata": {},
   "outputs": [],
   "source": []
  }
 ],
 "metadata": {
  "kernelspec": {
   "display_name": "Python 3 (ipykernel)",
   "language": "python",
   "name": "python3"
  },
  "language_info": {
   "codemirror_mode": {
    "name": "ipython",
    "version": 3
   },
   "file_extension": ".py",
   "mimetype": "text/x-python",
   "name": "python",
   "nbconvert_exporter": "python",
   "pygments_lexer": "ipython3",
   "version": "3.9.13"
  }
 },
 "nbformat": 4,
 "nbformat_minor": 5
}
