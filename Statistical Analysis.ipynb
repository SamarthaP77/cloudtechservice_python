{
 "cells": [
  {
   "cell_type": "code",
   "execution_count": 4,
   "id": "7e7de2a1",
   "metadata": {},
   "outputs": [
    {
     "name": "stdout",
     "output_type": "stream",
     "text": [
      "30.0\n"
     ]
    }
   ],
   "source": [
    "import numpy as np\n",
    "speed = [10,20,30,40,50]\n",
    "x = np.mean(speed)\n",
    "print(x)\n"
   ]
  },
  {
   "cell_type": "code",
   "execution_count": 5,
   "id": "b05fdddb",
   "metadata": {},
   "outputs": [
    {
     "name": "stdout",
     "output_type": "stream",
     "text": [
      "30.0\n"
     ]
    }
   ],
   "source": [
    "y = np.median(speed)\n",
    "print(y)"
   ]
  },
  {
   "cell_type": "code",
   "execution_count": 8,
   "id": "ec076caa",
   "metadata": {},
   "outputs": [
    {
     "name": "stdout",
     "output_type": "stream",
     "text": [
      "ModeResult(mode=array([12]), count=array([2]))\n"
     ]
    },
    {
     "name": "stderr",
     "output_type": "stream",
     "text": [
      "/var/folders/ky/05qc6srx0lg695c0z6397x3m0000gn/T/ipykernel_90510/4026294984.py:3: FutureWarning: Unlike other reduction functions (e.g. `skew`, `kurtosis`), the default behavior of `mode` typically preserves the axis it acts along. In SciPy 1.11.0, this behavior will change: the default value of `keepdims` will become False, the `axis` over which the statistic is taken will be eliminated, and the value None will no longer be accepted. Set `keepdims` to True or False to avoid this warning.\n",
      "  z = stats.mode(name)\n"
     ]
    }
   ],
   "source": [
    "from scipy import stats\n",
    "name = (12,12,4,5,6,7,8)\n",
    "z = stats.mode(name)\n",
    "print(z)"
   ]
  },
  {
   "cell_type": "code",
   "execution_count": 9,
   "id": "ce665320",
   "metadata": {},
   "outputs": [
    {
     "name": "stdout",
     "output_type": "stream",
     "text": [
      "3.0\n",
      "5.5\n",
      "7.0\n",
      "4.0\n"
     ]
    }
   ],
   "source": [
    "data = [1,3,3,4,5,6,6,7,8,8]\n",
    "#Q1\n",
    "Q1 = np.median(data[:5])\n",
    "print(Q1)\n",
    "#Q2\n",
    "Q2 = np.median(data)\n",
    "print(Q2)\n",
    "#Q3\n",
    "Q3 = np.median(data[5:])\n",
    "print(Q3)\n",
    "#IQR\n",
    "IQR = Q3 - Q1\n",
    "print(IQR)"
   ]
  },
  {
   "cell_type": "code",
   "execution_count": 12,
   "id": "b6a3f6eb",
   "metadata": {},
   "outputs": [
    {
     "name": "stdout",
     "output_type": "stream",
     "text": [
      "14.142135623730951\n"
     ]
    }
   ],
   "source": [
    "\n",
    "speed = [10,20,30,40,50]\n",
    "a = np.std(speed)\n",
    "print(a)"
   ]
  },
  {
   "cell_type": "code",
   "execution_count": null,
   "id": "98a1f3c0",
   "metadata": {},
   "outputs": [],
   "source": []
  }
 ],
 "metadata": {
  "kernelspec": {
   "display_name": "Python 3 (ipykernel)",
   "language": "python",
   "name": "python3"
  },
  "language_info": {
   "codemirror_mode": {
    "name": "ipython",
    "version": 3
   },
   "file_extension": ".py",
   "mimetype": "text/x-python",
   "name": "python",
   "nbconvert_exporter": "python",
   "pygments_lexer": "ipython3",
   "version": "3.9.13"
  }
 },
 "nbformat": 4,
 "nbformat_minor": 5
}
